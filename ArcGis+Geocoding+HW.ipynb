{
 "cells": [
  {
   "cell_type": "markdown",
   "metadata": {},
   "source": [
    "### EX1 - Geocode using addresses"
   ]
  },
  {
   "cell_type": "code",
   "execution_count": 39,
   "metadata": {
    "collapsed": true
   },
   "outputs": [],
   "source": [
    "from arcgis.gis import GIS\n",
    "from arcgis.geocoding import get_geocoders, batch_geocode, reverse_geocode\n",
    "\n",
    "gis = GIS(\"http://www.arcgis.com\", \"racheldyap\",\"loyola08018\")\n",
    "\n",
    "geocoder = get_geocoders(gis)[0]"
   ]
  },
  {
   "cell_type": "code",
   "execution_count": 60,
   "metadata": {
    "collapsed": true
   },
   "outputs": [],
   "source": [
    "addresses = [\"08196, Barcelona\",\n",
    "             \"Ctra. de l'Església, 92, 08017 Barcelona\",\n",
    "             \"Carrer de Marià Lavèrnia, s/n, 08032 Barcelona\",\n",
    "             \"Tibidabo, 08035 Barcelona\",\n",
    "             \"Ctra. de Montjuïc, 66, 08038 Barcelona\"]"
   ]
  },
  {
   "cell_type": "code",
   "execution_count": 61,
   "metadata": {
    "collapsed": true
   },
   "outputs": [],
   "source": [
    "results = batch_geocode(addresses)"
   ]
  },
  {
   "cell_type": "code",
   "execution_count": 62,
   "metadata": {},
   "outputs": [
    {
     "data": {
      "text/plain": [
       "[{'address': '08196',\n",
       "  'attributes': {'AddBldg': '',\n",
       "   'AddNum': '',\n",
       "   'AddNumFrom': '',\n",
       "   'AddNumTo': '',\n",
       "   'AddRange': '',\n",
       "   'Addr_type': 'Postal',\n",
       "   'BldgName': '',\n",
       "   'BldgType': '',\n",
       "   'Block': '',\n",
       "   'City': 'Sant Cugat del Vallès',\n",
       "   'Country': 'ESP',\n",
       "   'DisplayX': 2.075774831587694,\n",
       "   'DisplayY': 41.43177000000003,\n",
       "   'Distance': 0,\n",
       "   'District': '',\n",
       "   'ExInfo': '',\n",
       "   'LangCode': 'CAT',\n",
       "   'LevelName': '',\n",
       "   'LevelType': '',\n",
       "   'Loc_name': 'World',\n",
       "   'LongLabel': '08196, ESP',\n",
       "   'Match_addr': '08196',\n",
       "   'MetroArea': '',\n",
       "   'Nbrhd': '',\n",
       "   'Phone': '',\n",
       "   'PlaceName': '08196',\n",
       "   'Place_addr': '08196, Sant Cugat del Vallès, Barcelona, Catalunya',\n",
       "   'Postal': '08196',\n",
       "   'PostalExt': '',\n",
       "   'Rank': 5,\n",
       "   'Region': 'Catalunya',\n",
       "   'RegionAbbr': '',\n",
       "   'ResultID': 0,\n",
       "   'Score': 100,\n",
       "   'Sector': '',\n",
       "   'ShortLabel': '08196',\n",
       "   'Side': '',\n",
       "   'StAddr': '',\n",
       "   'StDir': '',\n",
       "   'StName': '',\n",
       "   'StPreDir': '',\n",
       "   'StPreType': '',\n",
       "   'StType': '',\n",
       "   'Status': 'M',\n",
       "   'SubAddr': '',\n",
       "   'Subregion': 'Barcelona',\n",
       "   'Territory': '',\n",
       "   'Type': '',\n",
       "   'URL': '',\n",
       "   'UnitName': '',\n",
       "   'UnitType': '',\n",
       "   'X': 2.075774831587694,\n",
       "   'Xmax': 2.131774831587694,\n",
       "   'Xmin': 2.0197748315876938,\n",
       "   'Y': 41.43177000000003,\n",
       "   'Ymax': 41.487770000000026,\n",
       "   'Ymin': 41.37577000000003,\n",
       "   'Zone': ''},\n",
       "  'location': {'x': 2.075774832000036, 'y': 41.43177000000003},\n",
       "  'score': 100},\n",
       " {'address': \"Carretera de l'Església 92, 08017, Vallvid. el Tibidabo i les Planes, Barcelona, Catalunya\",\n",
       "  'attributes': {'AddBldg': '',\n",
       "   'AddNum': '92',\n",
       "   'AddNumFrom': '',\n",
       "   'AddNumTo': '',\n",
       "   'AddRange': '',\n",
       "   'Addr_type': 'PointAddress',\n",
       "   'BldgName': '',\n",
       "   'BldgType': '',\n",
       "   'Block': '',\n",
       "   'City': 'Barcelona',\n",
       "   'Country': 'ESP',\n",
       "   'DisplayX': 2.099479500000001,\n",
       "   'DisplayY': 41.419197,\n",
       "   'Distance': 0,\n",
       "   'District': 'Barcelona',\n",
       "   'ExInfo': '',\n",
       "   'LangCode': 'CAT',\n",
       "   'LevelName': '',\n",
       "   'LevelType': '',\n",
       "   'Loc_name': 'World',\n",
       "   'LongLabel': \"Carretera de l'Església 92, 08017, Vallvid. el Tibidabo i les Planes, Barcelona, Catalunya, ESP\",\n",
       "   'Match_addr': \"Carretera de l'Església 92, 08017, Vallvid. el Tibidabo i les Planes, Barcelona, Catalunya\",\n",
       "   'MetroArea': '',\n",
       "   'Nbrhd': 'Vallvid. el Tibidabo i les Planes',\n",
       "   'Phone': '',\n",
       "   'PlaceName': '',\n",
       "   'Place_addr': \"Carretera de l'Església 92, 08017, Vallvid. el Tibidabo i les Planes, Barcelona, Catalunya\",\n",
       "   'Postal': '08017',\n",
       "   'PostalExt': '',\n",
       "   'Rank': 20,\n",
       "   'Region': 'Catalunya',\n",
       "   'RegionAbbr': '',\n",
       "   'ResultID': 1,\n",
       "   'Score': 100,\n",
       "   'Sector': '',\n",
       "   'ShortLabel': \"Carretera de l'Església 92\",\n",
       "   'Side': 'R',\n",
       "   'StAddr': \"Carretera de l'Església 92\",\n",
       "   'StDir': '',\n",
       "   'StName': 'Església',\n",
       "   'StPreDir': '',\n",
       "   'StPreType': \"Carretera de l'\",\n",
       "   'StType': '',\n",
       "   'Status': 'M',\n",
       "   'SubAddr': '',\n",
       "   'Subregion': 'Barcelona',\n",
       "   'Territory': '',\n",
       "   'Type': '',\n",
       "   'URL': '',\n",
       "   'UnitName': '',\n",
       "   'UnitType': '',\n",
       "   'X': 2.0994749737722875,\n",
       "   'Xmax': 2.100479500000001,\n",
       "   'Xmin': 2.098479500000001,\n",
       "   'Y': 41.4192197149576,\n",
       "   'Ymax': 41.420196999999995,\n",
       "   'Ymin': 41.418197,\n",
       "   'Zone': ''},\n",
       "  'location': {'x': 2.0994749740000316, 'y': 41.419219715000054},\n",
       "  'score': 100},\n",
       " {'address': 'Carrer de Marià Labèrnia, 08032, Can Baró, Barcelona, Catalunya',\n",
       "  'attributes': {'AddBldg': '',\n",
       "   'AddNum': '',\n",
       "   'AddNumFrom': '',\n",
       "   'AddNumTo': '',\n",
       "   'AddRange': '',\n",
       "   'Addr_type': 'StreetName',\n",
       "   'BldgName': '',\n",
       "   'BldgType': '',\n",
       "   'Block': '',\n",
       "   'City': 'Barcelona',\n",
       "   'Country': 'ESP',\n",
       "   'DisplayX': 2.1635272944611876,\n",
       "   'DisplayY': 41.41948981308191,\n",
       "   'Distance': 0,\n",
       "   'District': 'Barcelona',\n",
       "   'ExInfo': '',\n",
       "   'LangCode': 'CAT',\n",
       "   'LevelName': '',\n",
       "   'LevelType': '',\n",
       "   'Loc_name': 'World',\n",
       "   'LongLabel': 'Carrer de Marià Labèrnia, 08032, Can Baró, Barcelona, Catalunya, ESP',\n",
       "   'Match_addr': 'Carrer de Marià Labèrnia, 08032, Can Baró, Barcelona, Catalunya',\n",
       "   'MetroArea': '',\n",
       "   'Nbrhd': 'Can Baró',\n",
       "   'Phone': '',\n",
       "   'PlaceName': '',\n",
       "   'Place_addr': 'Carrer de Marià Labèrnia, 08032, Can Baró, Barcelona, Catalunya',\n",
       "   'Postal': '08032',\n",
       "   'PostalExt': '',\n",
       "   'Rank': 20,\n",
       "   'Region': 'Catalunya',\n",
       "   'RegionAbbr': '',\n",
       "   'ResultID': 2,\n",
       "   'Score': 97.37,\n",
       "   'Sector': '',\n",
       "   'ShortLabel': 'Carrer de Marià Labèrnia',\n",
       "   'Side': '',\n",
       "   'StAddr': 'Carrer de Marià Labèrnia',\n",
       "   'StDir': '',\n",
       "   'StName': 'Marià Labèrnia',\n",
       "   'StPreDir': '',\n",
       "   'StPreType': 'Carrer de',\n",
       "   'StType': '',\n",
       "   'Status': 'M',\n",
       "   'SubAddr': '',\n",
       "   'Subregion': 'Barcelona',\n",
       "   'Territory': '',\n",
       "   'Type': '',\n",
       "   'URL': '',\n",
       "   'UnitName': '',\n",
       "   'UnitType': '',\n",
       "   'X': 2.1635272944611876,\n",
       "   'Xmax': 2.1645272944611875,\n",
       "   'Xmin': 2.1625272944611877,\n",
       "   'Y': 41.41948981308191,\n",
       "   'Ymax': 41.42048981308191,\n",
       "   'Ymin': 41.41848981308191,\n",
       "   'Zone': ''},\n",
       "  'location': {'x': 2.163527294000062, 'y': 41.41948981300004},\n",
       "  'score': 97.37},\n",
       " {'address': 'Tibidabo',\n",
       "  'attributes': {'AddBldg': '',\n",
       "   'AddNum': '',\n",
       "   'AddNumFrom': '',\n",
       "   'AddNumTo': '',\n",
       "   'AddRange': '',\n",
       "   'Addr_type': 'POI',\n",
       "   'BldgName': '',\n",
       "   'BldgType': '',\n",
       "   'Block': '',\n",
       "   'City': 'Barcelona',\n",
       "   'Country': 'ESP',\n",
       "   'DisplayX': 2.1192300000000728,\n",
       "   'DisplayY': 41.42160000000007,\n",
       "   'Distance': 0,\n",
       "   'District': 'Barcelona',\n",
       "   'ExInfo': '',\n",
       "   'LangCode': 'CAT',\n",
       "   'LevelName': '',\n",
       "   'LevelType': '',\n",
       "   'Loc_name': 'World',\n",
       "   'LongLabel': 'Tibidabo, BV-1800, 08035, Vallvid. el Tibidabo i les Planes, Barcelona, Catalunya, ESP',\n",
       "   'Match_addr': 'Tibidabo',\n",
       "   'MetroArea': '',\n",
       "   'Nbrhd': 'Vallvid. el Tibidabo i les Planes',\n",
       "   'Phone': '+34 932117942',\n",
       "   'PlaceName': 'Tibidabo',\n",
       "   'Place_addr': 'BV-1800, 08035, Vallvid. el Tibidabo i les Planes, Barcelona, Catalunya',\n",
       "   'Postal': '08035',\n",
       "   'PostalExt': '',\n",
       "   'Rank': 19,\n",
       "   'Region': 'Catalunya',\n",
       "   'RegionAbbr': '',\n",
       "   'ResultID': 3,\n",
       "   'Score': 100,\n",
       "   'Sector': '',\n",
       "   'ShortLabel': 'Tibidabo',\n",
       "   'Side': '',\n",
       "   'StAddr': 'BV-1800',\n",
       "   'StDir': '',\n",
       "   'StName': 'BV-1800',\n",
       "   'StPreDir': '',\n",
       "   'StPreType': '',\n",
       "   'StType': '',\n",
       "   'Status': 'T',\n",
       "   'SubAddr': '',\n",
       "   'Subregion': 'Barcelona',\n",
       "   'Territory': '',\n",
       "   'Type': 'Amusement Park',\n",
       "   'URL': 'http://www.tibidabo.es/',\n",
       "   'UnitName': '',\n",
       "   'UnitType': '',\n",
       "   'X': 2.1192300000000728,\n",
       "   'Xmax': 2.1242300000000727,\n",
       "   'Xmin': 2.114230000000073,\n",
       "   'Y': 41.421580051070514,\n",
       "   'Ymax': 41.42660000000007,\n",
       "   'Ymin': 41.41660000000007,\n",
       "   'Zone': ''},\n",
       "  'location': {'x': 2.1192300000000728, 'y': 41.421580051000035},\n",
       "  'score': 100},\n",
       " {'address': 'Carretera de Montjuïc 66, 08038, Montjuïc, Barcelona, Catalunya',\n",
       "  'attributes': {'AddBldg': '',\n",
       "   'AddNum': '66',\n",
       "   'AddNumFrom': '64',\n",
       "   'AddNumTo': '66',\n",
       "   'AddRange': '64-66',\n",
       "   'Addr_type': 'StreetAddress',\n",
       "   'BldgName': '',\n",
       "   'BldgType': '',\n",
       "   'Block': '',\n",
       "   'City': 'Barcelona',\n",
       "   'Country': 'ESP',\n",
       "   'DisplayX': 2.167131241189767,\n",
       "   'DisplayY': 41.36382331120166,\n",
       "   'Distance': 0,\n",
       "   'District': 'Barcelona',\n",
       "   'ExInfo': '',\n",
       "   'LangCode': 'CAT',\n",
       "   'LevelName': '',\n",
       "   'LevelType': '',\n",
       "   'Loc_name': 'World',\n",
       "   'LongLabel': 'Carretera de Montjuïc 66, 08038, Montjuïc, Barcelona, Catalunya, ESP',\n",
       "   'Match_addr': 'Carretera de Montjuïc 66, 08038, Montjuïc, Barcelona, Catalunya',\n",
       "   'MetroArea': '',\n",
       "   'Nbrhd': 'Montjuïc',\n",
       "   'Phone': '',\n",
       "   'PlaceName': '',\n",
       "   'Place_addr': 'Carretera de Montjuïc 66, 08038, Montjuïc, Barcelona, Catalunya',\n",
       "   'Postal': '08038',\n",
       "   'PostalExt': '',\n",
       "   'Rank': 20,\n",
       "   'Region': 'Catalunya',\n",
       "   'RegionAbbr': '',\n",
       "   'ResultID': 4,\n",
       "   'Score': 100,\n",
       "   'Sector': '',\n",
       "   'ShortLabel': 'Carretera de Montjuïc 66',\n",
       "   'Side': 'L',\n",
       "   'StAddr': 'Carretera de Montjuïc 66',\n",
       "   'StDir': '',\n",
       "   'StName': 'Montjuïc',\n",
       "   'StPreDir': '',\n",
       "   'StPreType': 'Carretera de',\n",
       "   'StType': '',\n",
       "   'Status': 'M',\n",
       "   'SubAddr': '',\n",
       "   'Subregion': 'Barcelona',\n",
       "   'Territory': '',\n",
       "   'Type': '',\n",
       "   'URL': '',\n",
       "   'UnitName': '',\n",
       "   'UnitType': '',\n",
       "   'X': 2.167131241189767,\n",
       "   'Xmax': 2.168131241189767,\n",
       "   'Xmin': 2.1661312411897673,\n",
       "   'Y': 41.36382331120166,\n",
       "   'Ymax': 41.364823311201654,\n",
       "   'Ymin': 41.36282331120166,\n",
       "   'Zone': ''},\n",
       "  'location': {'x': 2.1671312410000496, 'y': 41.36382331100003},\n",
       "  'score': 100}]"
      ]
     },
     "execution_count": 62,
     "metadata": {},
     "output_type": "execute_result"
    }
   ],
   "source": [
    "results"
   ]
  },
  {
   "cell_type": "code",
   "execution_count": 63,
   "metadata": {},
   "outputs": [
    {
     "data": {
      "application/vnd.jupyter.widget-view+json": {
       "model_id": "3b3056a3a6d748e388f936e6f4eaa2ce"
      }
     },
     "metadata": {},
     "output_type": "display_data"
    }
   ],
   "source": [
    "map = gis.map(\"Barcelona\", 9)\n",
    "map"
   ]
  },
  {
   "cell_type": "code",
   "execution_count": 65,
   "metadata": {
    "collapsed": true
   },
   "outputs": [],
   "source": [
    "for address in results:\n",
    "    map.draw(address['location'])"
   ]
  },
  {
   "cell_type": "markdown",
   "metadata": {},
   "source": [
    "### EX2 - Reverse geocode"
   ]
  },
  {
   "cell_type": "code",
   "execution_count": 42,
   "metadata": {},
   "outputs": [],
   "source": [
    "montserrat = reverse_geocode([1.829814,41.595776])"
   ]
  },
  {
   "cell_type": "code",
   "execution_count": 43,
   "metadata": {},
   "outputs": [
    {
     "data": {
      "text/plain": [
       "{'address': {'AddNum': '',\n",
       "  'Addr_type': 'Postal',\n",
       "  'Address': '',\n",
       "  'Block': '',\n",
       "  'City': 'Marganell',\n",
       "  'CountryCode': 'ESP',\n",
       "  'District': '',\n",
       "  'LongLabel': '08199, ESP',\n",
       "  'Match_addr': '08199',\n",
       "  'MetroArea': '',\n",
       "  'Neighborhood': '',\n",
       "  'PlaceName': '08199',\n",
       "  'Postal': '08199',\n",
       "  'PostalExt': '',\n",
       "  'Region': 'Catalunya',\n",
       "  'Sector': '',\n",
       "  'ShortLabel': '08199',\n",
       "  'Subregion': 'Barcelona',\n",
       "  'Territory': '',\n",
       "  'Type': ''},\n",
       " 'location': {'spatialReference': {'latestWkid': 4326, 'wkid': 4326},\n",
       "  'x': 1.829814,\n",
       "  'y': 41.595776}}"
      ]
     },
     "execution_count": 43,
     "metadata": {},
     "output_type": "execute_result"
    }
   ],
   "source": [
    "montserrat"
   ]
  },
  {
   "cell_type": "code",
   "execution_count": 46,
   "metadata": {
    "collapsed": true
   },
   "outputs": [],
   "source": [
    "tibidabo = reverse_geocode([2.11978,41.423042])"
   ]
  },
  {
   "cell_type": "code",
   "execution_count": 47,
   "metadata": {},
   "outputs": [
    {
     "data": {
      "text/plain": [
       "{'address': {'AddNum': '',\n",
       "  'Addr_type': 'StreetName',\n",
       "  'Address': 'Camí del Cel del Tibidabo',\n",
       "  'Block': '',\n",
       "  'City': 'Barcelona',\n",
       "  'CountryCode': 'ESP',\n",
       "  'District': 'Barcelona',\n",
       "  'LongLabel': 'Camí del Cel del Tibidabo, 08035, Vallvid. el Tibidabo i les Planes, Barcelona, Catalunya, ESP',\n",
       "  'Match_addr': 'Camí del Cel del Tibidabo, 08035, Vallvid. el Tibidabo i les Planes, Barcelona, Catalunya',\n",
       "  'MetroArea': '',\n",
       "  'Neighborhood': 'Vallvid. el Tibidabo i les Planes',\n",
       "  'PlaceName': '',\n",
       "  'Postal': '08035',\n",
       "  'PostalExt': '',\n",
       "  'Region': 'Catalunya',\n",
       "  'Sector': '',\n",
       "  'ShortLabel': 'Camí del Cel del Tibidabo',\n",
       "  'Subregion': 'Barcelona',\n",
       "  'Territory': '',\n",
       "  'Type': ''},\n",
       " 'location': {'spatialReference': {'latestWkid': 4326, 'wkid': 4326},\n",
       "  'x': 2.11948863847981,\n",
       "  'y': 41.42295591591449}}"
      ]
     },
     "execution_count": 47,
     "metadata": {},
     "output_type": "execute_result"
    }
   ],
   "source": [
    "tibidabo"
   ]
  },
  {
   "cell_type": "code",
   "execution_count": 51,
   "metadata": {},
   "outputs": [],
   "source": [
    "pedraforca = reverse_geocode([1.706389,42.238888])"
   ]
  },
  {
   "cell_type": "code",
   "execution_count": 52,
   "metadata": {},
   "outputs": [
    {
     "data": {
      "text/plain": [
       "{'address': {'AddNum': '',\n",
       "  'Addr_type': 'Locality',\n",
       "  'Address': '',\n",
       "  'Block': '',\n",
       "  'City': 'Saldes',\n",
       "  'CountryCode': 'ESP',\n",
       "  'District': '',\n",
       "  'LongLabel': 'Saldes, Barcelona, Catalunya, ESP',\n",
       "  'Match_addr': 'Saldes, Barcelona, Catalunya',\n",
       "  'MetroArea': '',\n",
       "  'Neighborhood': '',\n",
       "  'PlaceName': 'Saldes',\n",
       "  'Postal': '',\n",
       "  'PostalExt': '',\n",
       "  'Region': 'Catalunya',\n",
       "  'Sector': '',\n",
       "  'ShortLabel': 'Saldes',\n",
       "  'Subregion': 'Barcelona',\n",
       "  'Territory': '',\n",
       "  'Type': 'City'},\n",
       " 'location': {'spatialReference': {'latestWkid': 4326, 'wkid': 4326},\n",
       "  'x': 1.706389,\n",
       "  'y': 42.238888}}"
      ]
     },
     "execution_count": 52,
     "metadata": {},
     "output_type": "execute_result"
    }
   ],
   "source": [
    "pedraforca"
   ]
  },
  {
   "cell_type": "code",
   "execution_count": null,
   "metadata": {
    "collapsed": true
   },
   "outputs": [],
   "source": []
  }
 ],
 "metadata": {
  "kernelspec": {
   "display_name": "Python 3",
   "language": "python",
   "name": "python3"
  },
  "language_info": {
   "codemirror_mode": {
    "name": "ipython",
    "version": 3
   },
   "file_extension": ".py",
   "mimetype": "text/x-python",
   "name": "python",
   "nbconvert_exporter": "python",
   "pygments_lexer": "ipython3",
   "version": "3.6.3"
  }
 },
 "nbformat": 4,
 "nbformat_minor": 2
}
